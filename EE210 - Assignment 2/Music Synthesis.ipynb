{
 "cells": [
  {
   "cell_type": "markdown",
   "metadata": {},
   "source": [
    "This is a [jupyter](http://jupyter.org) notebook.\n",
    "\n",
    "Open the notebook by (1) copying this file into a directory, (2) launching jupyter notebook in that directory\n",
    "and (3) selecting the notebook."
   ]
  },
  {
   "cell_type": "markdown",
   "metadata": {},
   "source": [
    "# <u><font color= 'blue'>Music Synthesis</font> </u>\n",
    "### <i>Practical Assignment 2, EE210 (Spring 2017) </i>\n",
    "___\n",
    "A notebook by ___Shashwat Shukla___ and ___Dhruv Ilesh Shah___ \n",
    "___\n",
    "__Required Packages:__ Python(2.7+), NumPy, math, cmath, SciPy.io _(Optional, to simplify IO operations)_\n",
    "___\n",
    "In this notebook, we describe our method for synthesising music, given the sequences of notes and their timings. We have added higher harmonics to each tone being played. We also modulated the temporal envelope of the notes played. \n",
    "The temporal envelope has been modelled using the ADSR. \n",
    "\n",
    "Our code is very modular and all parameters of the ADSR model and for the harmonic content are fully configurable. We have fixed the values of our parameters to model the timbre of an acoustic guitar.   "
   ]
  }
 ],
 "metadata": {
  "anaconda-cloud": {},
  "kernelspec": {
   "display_name": "Python [default]",
   "language": "python",
   "name": "python2"
  },
  "language_info": {
   "codemirror_mode": {
    "name": "ipython",
    "version": 2
   },
   "file_extension": ".py",
   "mimetype": "text/x-python",
   "name": "python",
   "nbconvert_exporter": "python",
   "pygments_lexer": "ipython2",
   "version": "2.7.12"
  }
 },
 "nbformat": 4,
 "nbformat_minor": 0
}
